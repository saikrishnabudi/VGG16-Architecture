{
  "nbformat": 4,
  "nbformat_minor": 0,
  "metadata": {
    "colab": {
      "provenance": []
    },
    "kernelspec": {
      "name": "python3",
      "display_name": "Python 3"
    },
    "language_info": {
      "name": "python"
    }
  },
  "cells": [
    {
      "cell_type": "code",
      "execution_count": 16,
      "metadata": {
        "id": "_eJkoOqUoz6m"
      },
      "outputs": [],
      "source": [
        "# Importing the libraries\n",
        "from tensorflow.keras.utils import load_img                 # Loading the Image\n",
        "from tensorflow.keras.utils import img_to_array             # Converting the image to array\n",
        "from keras.applications.vgg16 import preprocess_input       # Preprocess the input data\n",
        "from keras.applications.vgg16 import decode_predictions     # After passing the input we will decode the predictions what exactly it was?\n",
        "from keras.applications.vgg16 import VGG16"
      ]
    },
    {
      "cell_type": "code",
      "source": [
        "# Loading the model\n",
        "model=VGG16()\n",
        "\n",
        "# Loading the image from file\n",
        "image=load_img(\"/content/ertiga.jpeg\",target_size=(224,224))      # Setting the target image\n",
        "\n",
        "# Converting the images pixels into numpy array\n",
        "image=img_to_array(image)                                           # Converting the image into array\n",
        "\n",
        "# Reshaping the data for the model\n",
        "image=image.reshape((1,image.shape[0],image.shape[1],image.shape[2]))\n",
        "\n",
        "# Preparing the image for VGG model\n",
        "image=preprocess_input(image)\n",
        "\n",
        "# Predict the probability across all output classes\n",
        "yhat = model.predict(image)\n",
        "\n",
        "# Converting the probabilitites to class labels                 # Decoding the predictions\n",
        "label=decode_predictions(yhat)\n",
        "\n",
        "# Retriving the most/highest probability result\n",
        "label=label[0][0]\n",
        "\n",
        "# Print the classification\n",
        "print(\"%s(%.2f%%)\" %(label[1],label[2]*100))"
      ],
      "metadata": {
        "colab": {
          "base_uri": "https://localhost:8080/"
        },
        "id": "j7Yott-nvP4i",
        "outputId": "e272f8a4-4e07-4f9d-b0fc-8bfd50964b87"
      },
      "execution_count": 18,
      "outputs": [
        {
          "output_type": "stream",
          "name": "stdout",
          "text": [
            "1/1 [==============================] - 1s 1s/step\n",
            "jeep(93.39%)\n"
          ]
        }
      ]
    },
    {
      "cell_type": "markdown",
      "source": [
        "- In the above we prepared the image classificaion model by using the VGG16 architicture of Convolution Neural Network.\n",
        "\n"
      ],
      "metadata": {
        "id": "UydHpJat231w"
      }
    }
  ]
}